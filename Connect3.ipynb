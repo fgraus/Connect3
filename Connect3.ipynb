{
 "cells": [
  {
   "cell_type": "markdown",
   "id": "cd02235b",
   "metadata": {},
   "source": [
    "# Imports"
   ]
  },
  {
   "cell_type": "code",
   "execution_count": 1,
   "id": "c971d5a3",
   "metadata": {},
   "outputs": [],
   "source": [
    "import sys\n",
    "import random\n",
    "import numpy as np\n",
    "from io import StringIO\n",
    "\n",
    "from gym import Env, spaces"
   ]
  },
  {
   "cell_type": "markdown",
   "id": "11159ccc",
   "metadata": {},
   "source": [
    "# Variables"
   ]
  },
  {
   "cell_type": "markdown",
   "id": "ac9d2d48",
   "metadata": {},
   "source": [
    "Here you can define the size of the board (size x size), the number of connections you have to have to win and the number of players"
   ]
  },
  {
   "cell_type": "code",
   "execution_count": null,
   "id": "f9f451b9",
   "metadata": {},
   "outputs": [],
   "source": [
    "size = 4\n",
    "connect = 3\n",
    "aggents = 3"
   ]
  },
  {
   "cell_type": "markdown",
   "id": "40e73df8",
   "metadata": {},
   "source": [
    "Here is the object Board, This object contains all the rules of the game"
   ]
  },
  {
   "cell_type": "code",
   "execution_count": null,
   "id": "48a65940",
   "metadata": {},
   "outputs": [],
   "source": [
    "class Board():\n",
    "    \n",
    "    def __init__(self, size = 4, connect = 3, aggents = 2):\n",
    "        self.shape = (size, size)\n",
    "        \n",
    "        \n",
    "        self.table = np.zeros(self.shape)\n",
    "\n",
    "        self.size = size\n",
    "        self.connect = connect\n",
    "        self.aggents = aggents\n",
    "    \n",
    "    \n",
    "    def reset(self):\n",
    "        self.table = np.zeros(self.shape)\n",
    "        \n",
    "    def render(self):\n",
    "        output = ''\n",
    "\n",
    "        # i is row\n",
    "        # j is columns\n",
    "        for i in range(self.size):\n",
    "            for j in range(self.size):\n",
    "                output = output + ' ' + str(int(self.table[i,j]))\n",
    "\n",
    "            print(output)\n",
    "            output = ''\n",
    "            \n",
    "    def step(self, player, action):\n",
    "        for i in range(self.size):\n",
    "            try:\n",
    "                if self.table[i+1][action] != 0:\n",
    "                    self.table[i][action] = player\n",
    "                    return self.checkWinner()\n",
    "            except:\n",
    "                self.table[i][action] = player\n",
    "                return self.checkWinner()\n",
    "        print('Error occurred')\n",
    "\n",
    "    def checkIfMoveAvailable(self, action):\n",
    "        if self.table[0][action] != 0:\n",
    "            return False\n",
    "        return True\n",
    "    \n",
    "    def numberOfPlayers(self):\n",
    "        return self.aggents\n",
    "    \n",
    "    def returnSize(self):\n",
    "        return self.shape\n",
    "    \n",
    "    def returnTable(self):\n",
    "        return self.table\n",
    "            \n",
    "    def checkWinner(self):\n",
    "\n",
    "        for player in range(1, self.aggents + 1, 1):\n",
    "            \n",
    "            # check columns\n",
    "            for i in range(self.size):\n",
    "                for j in range(self.size):\n",
    "                    try:\n",
    "                        num = 0\n",
    "                        while(num >= 0):\n",
    "                            if self.table[i + num][j] == player:\n",
    "                                num = num + 1\n",
    "                            else:\n",
    "                                num = -1\n",
    "                            if num >= self.connect:\n",
    "                                return player\n",
    "                    except:\n",
    "                        pass\n",
    "\n",
    "            # check rows\n",
    "            for i in range(self.size):\n",
    "                for j in range(self.size):\n",
    "                    try:\n",
    "                        num = 0\n",
    "                        while(num >= 0):\n",
    "                            if self.table[i][j + num] == player:\n",
    "                                num = num + 1\n",
    "                            else:\n",
    "                                num = -1\n",
    "                            if num >= self.connect:\n",
    "                                return player\n",
    "                    except:\n",
    "                        pass\n",
    "                        \n",
    "            #check diagonals\n",
    "            for i in range(self.size):\n",
    "                for j in range(self.size):\n",
    "                    try:\n",
    "                        num = 0\n",
    "                        while(num >= 0):\n",
    "                            if self.table[i + num][j + num] == player:\n",
    "                                num = num + 1\n",
    "                            else:\n",
    "                                num = -1\n",
    "                            if num >= self.connect:\n",
    "                                return player\n",
    "                    except:\n",
    "                        pass\n",
    "\n",
    "                    try:\n",
    "                        num = 0\n",
    "                        while(num >= 0):\n",
    "                            if self.table[i + num][j - num] == player:\n",
    "                                num = num + 1\n",
    "                            else:\n",
    "                                num = -1\n",
    "                            if num >= self.connect:\n",
    "                                return player\n",
    "                    except:\n",
    "                        pass\n",
    "            \n",
    "        # game is not finished yet\n",
    "        for i in range(self.size):\n",
    "            for j in range(self.size):\n",
    "                if self.table[i][j] == 0:\n",
    "                    return 0\n",
    "                    \n",
    "        # they tie\n",
    "        return -1\n",
    "        \n",
    "        \n",
    "    "
   ]
  },
  {
   "cell_type": "markdown",
   "id": "138c8e9c",
   "metadata": {},
   "source": [
    "Just a method for helping me to render the table"
   ]
  },
  {
   "cell_type": "code",
   "execution_count": null,
   "id": "2bb0edaf",
   "metadata": {},
   "outputs": [],
   "source": [
    "def render(table):\n",
    "    output = ''\n",
    "\n",
    "    # i is row\n",
    "    # j is columns\n",
    "    for i in range(table.shape[0]):\n",
    "        for j in range(table.shape[0]):\n",
    "            output = output + ' ' + str(int(table[i,j]))\n",
    "\n",
    "        print(output)\n",
    "        output = ''"
   ]
  },
  {
   "cell_type": "markdown",
   "id": "220e8d15",
   "metadata": {},
   "source": [
    "Creating the object"
   ]
  },
  {
   "cell_type": "code",
   "execution_count": null,
   "id": "3824d17f",
   "metadata": {},
   "outputs": [],
   "source": [
    "env = Board(size, connect, aggents)"
   ]
  },
  {
   "cell_type": "markdown",
   "id": "898f0daa",
   "metadata": {},
   "source": [
    "A method to check if the state is on the list or not"
   ]
  },
  {
   "cell_type": "code",
   "execution_count": null,
   "id": "2e92bf14",
   "metadata": {},
   "outputs": [],
   "source": [
    "def checkStateIsOnListOrAdd(states, table):\n",
    "    for i in range(len(states)):\n",
    "        if np.array_equal(states[i],table):\n",
    "            return states, False, i\n",
    "    tab = np.array(table.copy())\n",
    "    states.append(tab.copy())\n",
    "    return states, True, len(states)-1"
   ]
  },
  {
   "cell_type": "markdown",
   "id": "a03fc1c6",
   "metadata": {},
   "source": [
    "# Main part"
   ]
  },
  {
   "cell_type": "markdown",
   "id": "cb95b817",
   "metadata": {},
   "source": [
    "Because we have a huge space we are going to save every state as we came accros it\n",
    "\n",
    "Our main player is player one, the other players are just selecting randomly the move\n",
    "\n",
    "Player one use a q_table to select the best move"
   ]
  },
  {
   "cell_type": "code",
   "execution_count": null,
   "id": "4fb6090f",
   "metadata": {},
   "outputs": [],
   "source": [
    "q_table = []\n",
    "states = []\n",
    "    \n",
    "# Hyperparameters\n",
    "learning_rate = 0.1\n",
    "gamma = 0.6\n",
    "epsilon = 0.1\n",
    "\n",
    "# For plotting metrics\n",
    "all_frames = []\n",
    "epochs, penalties, victories = 0, 0, 0\n",
    "\n",
    "for i in range(1, 2000): # 100001\n",
    "    env.reset()\n",
    "\n",
    "    winner = 0\n",
    "        \n",
    "    while winner == 0:\n",
    "            \n",
    "        reward = 0\n",
    "            \n",
    "        for player in range(env.numberOfPlayers()):\n",
    "                \n",
    "            actionAvailable = False\n",
    "                \n",
    "            states, new, statePosition = checkStateIsOnListOrAdd(states, env.returnTable())\n",
    "                \n",
    "            if new:\n",
    "                q_table.append(np.zeros(size))\n",
    "                \n",
    "            if new == False and player == 1:\n",
    "                action = np.argmax(q_table[statePosition])\n",
    "            else:\n",
    "                while actionAvailable == False:\n",
    "                    action = random.randint(0, size - 1)\n",
    "                    actionAvailable = env.checkIfMoveAvailable(action)\n",
    "                    \n",
    "            env.step(player + 1, action)\n",
    "            all_frames.append(env.returnTable().copy())\n",
    "            winner = env.checkWinner()\n",
    "\n",
    "            if winner == 1:\n",
    "                reward = 1\n",
    "                victories += 1\n",
    "                \n",
    "            if winner > 1:\n",
    "                reward = -1\n",
    "                penalties += 1\n",
    "                \n",
    "            if (player + 1) == 1:\n",
    "                old_value = q_table[statePosition][action]\n",
    "                oldState = statePosition\n",
    "\n",
    "                states, new, statePosition = checkStateIsOnListOrAdd(states, env.returnTable())\n",
    "                if new == False:\n",
    "                    next_max = np.max(q_table[statePosition])\n",
    "                else:\n",
    "                    q_table.append(np.zeros(size))\n",
    "                    next_max = 0\n",
    "            \n",
    "                new_value = (1 - learning_rate) * old_value + learning_rate * (reward + gamma * next_max)\n",
    "                q_table[oldState][action] = new_value\n",
    "                \n",
    "            epochs += 1\n",
    "\n",
    "            if winner == -1:\n",
    "                break\n",
    "                \n",
    "print('Total number of moves ' + str(epochs))\n",
    "print('Total number of victories ' + str(victories))\n",
    "print('Total number of looses ' + str(penalties))"
   ]
  },
  {
   "cell_type": "markdown",
   "id": "3f56707a",
   "metadata": {},
   "source": [
    "# With this method we can see the games were played before"
   ]
  },
  {
   "cell_type": "code",
   "execution_count": null,
   "id": "cc391500",
   "metadata": {},
   "outputs": [],
   "source": [
    "from IPython.display import clear_output\n",
    "from time import sleep\n",
    "\n",
    "def print_frames(frames):\n",
    "    for i, frame in enumerate(frames):\n",
    "        clear_output(wait=True)\n",
    "        render(frame)\n",
    "        sleep(.1)\n",
    "        \n",
    "print_frames(all_frames)"
   ]
  }
 ],
 "metadata": {
  "kernelspec": {
   "display_name": "Python 3 (ipykernel)",
   "language": "python",
   "name": "python3"
  },
  "language_info": {
   "codemirror_mode": {
    "name": "ipython",
    "version": 3
   },
   "file_extension": ".py",
   "mimetype": "text/x-python",
   "name": "python",
   "nbconvert_exporter": "python",
   "pygments_lexer": "ipython3",
   "version": "3.9.10"
  },
  "varInspector": {
   "cols": {
    "lenName": 16,
    "lenType": 16,
    "lenVar": 40
   },
   "kernels_config": {
    "python": {
     "delete_cmd_postfix": "",
     "delete_cmd_prefix": "del ",
     "library": "var_list.py",
     "varRefreshCmd": "print(var_dic_list())"
    },
    "r": {
     "delete_cmd_postfix": ") ",
     "delete_cmd_prefix": "rm(",
     "library": "var_list.r",
     "varRefreshCmd": "cat(var_dic_list()) "
    }
   },
   "types_to_exclude": [
    "module",
    "function",
    "builtin_function_or_method",
    "instance",
    "_Feature"
   ],
   "window_display": false
  }
 },
 "nbformat": 4,
 "nbformat_minor": 5
}
